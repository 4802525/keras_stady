{
 "cells": [
  {
   "cell_type": "markdown",
   "metadata": {},
   "source": [
    "#  Mnist認識CNN-LSTM"
   ]
  },
  {
   "cell_type": "code",
   "execution_count": 1,
   "metadata": {},
   "outputs": [
    {
     "name": "stderr",
     "output_type": "stream",
     "text": [
      "Using TensorFlow backend.\n"
     ]
    }
   ],
   "source": [
    "from keras.datasets import mnist\n",
    "from keras.utils import np_utils\n",
    "from keras.models import Sequential\n",
    "from keras.layers import Dense, Activation, Dropout, Flatten, Conv2D, MaxPooling2D, Reshape, LSTM\n",
    "from keras.callbacks import EarlyStopping\n",
    "\n",
    "#GPUの仕様に関する設定\n",
    "import tensorflow as tf\n",
    "from keras import backend as K\n",
    "config = tf.ConfigProto(\n",
    "    gpu_options = tf.GPUOptions(\n",
    "        visible_device_list = \"1\",\n",
    "        allow_growth = True,\n",
    "        per_process_gpu_memory_fraction = 0.3))\n",
    "sess = tf.Session(config=config)\n",
    "K.set_session(sess)"
   ]
  },
  {
   "cell_type": "markdown",
   "metadata": {},
   "source": [
    "## Mnist読み込み"
   ]
  },
  {
   "cell_type": "code",
   "execution_count": 2,
   "metadata": {},
   "outputs": [],
   "source": [
    "(x_train, y_train), (x_test, y_test) = mnist.load_data()\n",
    "x_train = x_train/255.0\n",
    "x_test = x_test/255.0\n",
    "y_train = np_utils.to_categorical(y_train, num_classes = 10)"
   ]
  },
  {
   "cell_type": "markdown",
   "metadata": {},
   "source": [
    "## モデルの作成"
   ]
  },
  {
   "cell_type": "code",
   "execution_count": 3,
   "metadata": {},
   "outputs": [
    {
     "name": "stdout",
     "output_type": "stream",
     "text": [
      "_________________________________________________________________\n",
      "Layer (type)                 Output Shape              Param #   \n",
      "=================================================================\n",
      "reshape_1 (Reshape)          (None, 28, 28, 1)         0         \n",
      "_________________________________________________________________\n",
      "conv2d_1 (Conv2D)            (None, 24, 24, 10)        260       \n",
      "_________________________________________________________________\n",
      "conv2d_2 (Conv2D)            (None, 22, 22, 5)         455       \n",
      "_________________________________________________________________\n",
      "max_pooling2d_1 (MaxPooling2 (None, 11, 11, 5)         0         \n",
      "_________________________________________________________________\n",
      "reshape_2 (Reshape)          (None, 5, 121)            0         \n",
      "_________________________________________________________________\n",
      "lstm_1 (LSTM)                (None, 5, 50)             34400     \n",
      "_________________________________________________________________\n",
      "dropout_1 (Dropout)          (None, 5, 50)             0         \n",
      "_________________________________________________________________\n",
      "reshape_3 (Reshape)          (None, 250)               0         \n",
      "_________________________________________________________________\n",
      "dense_1 (Dense)              (None, 10)                2510      \n",
      "=================================================================\n",
      "Total params: 37,625\n",
      "Trainable params: 37,625\n",
      "Non-trainable params: 0\n",
      "_________________________________________________________________\n"
     ]
    }
   ],
   "source": [
    "model = Sequential([\n",
    "    Reshape((28,28,1), input_shape=(28,28)),\n",
    "    Conv2D(10, (5,5), activation = 'relu'),\n",
    "    Conv2D(5, (3,3), activation = 'relu'),\n",
    "    MaxPooling2D(pool_size=(2,2)),\n",
    "    Reshape((5,121)),\n",
    "    LSTM(50, kernel_initializer = 'he_normal', return_sequences=True, activation = 'relu'),\n",
    "    Dropout(0.2),\n",
    "    Reshape((250,),input_shape=(5,50)),\n",
    "    Dense(10, activation = 'softmax')\n",
    "])\n",
    "model.compile('adam', 'categorical_crossentropy', metrics=['accuracy'])\n",
    "model.summary()"
   ]
  },
  {
   "cell_type": "code",
   "execution_count": 4,
   "metadata": {},
   "outputs": [
    {
     "name": "stderr",
     "output_type": "stream",
     "text": [
      "/usr/local/src/pyenv/versions/anaconda3-5.1.0/lib/python3.6/site-packages/ipykernel_launcher.py:2: UserWarning: The `nb_epoch` argument in `fit` has been renamed `epochs`.\n",
      "  \n"
     ]
    },
    {
     "name": "stdout",
     "output_type": "stream",
     "text": [
      "Train on 48000 samples, validate on 12000 samples\n",
      "Epoch 1/300\n",
      "48000/48000 [==============================] - 3s 59us/step - loss: 1.6310 - acc: 0.4778 - val_loss: 0.4764 - val_acc: 0.8692\n",
      "Epoch 2/300\n",
      "48000/48000 [==============================] - 1s 28us/step - loss: 0.4244 - acc: 0.8686 - val_loss: 0.2323 - val_acc: 0.9341\n",
      "Epoch 3/300\n",
      "48000/48000 [==============================] - 1s 28us/step - loss: 0.2516 - acc: 0.9251 - val_loss: 0.1656 - val_acc: 0.9546\n",
      "Epoch 4/300\n",
      "48000/48000 [==============================] - 1s 27us/step - loss: 0.1886 - acc: 0.9424 - val_loss: 0.1316 - val_acc: 0.9646\n",
      "Epoch 5/300\n",
      "48000/48000 [==============================] - 1s 28us/step - loss: 0.1527 - acc: 0.9540 - val_loss: 0.1124 - val_acc: 0.9691\n",
      "Epoch 6/300\n",
      "48000/48000 [==============================] - 1s 27us/step - loss: 0.1259 - acc: 0.9610 - val_loss: 0.0948 - val_acc: 0.9747\n",
      "Epoch 7/300\n",
      "48000/48000 [==============================] - 1s 28us/step - loss: 0.1077 - acc: 0.9678 - val_loss: 0.0915 - val_acc: 0.9740\n",
      "Epoch 8/300\n",
      "48000/48000 [==============================] - 1s 27us/step - loss: 0.0951 - acc: 0.9702 - val_loss: 0.0883 - val_acc: 0.9759\n",
      "Epoch 9/300\n",
      "48000/48000 [==============================] - 1s 28us/step - loss: 0.0865 - acc: 0.9731 - val_loss: 0.0781 - val_acc: 0.9778\n",
      "Epoch 10/300\n",
      "48000/48000 [==============================] - 1s 28us/step - loss: 0.0754 - acc: 0.9772 - val_loss: 0.0733 - val_acc: 0.9790\n",
      "Epoch 11/300\n",
      "48000/48000 [==============================] - 1s 28us/step - loss: 0.0711 - acc: 0.9780 - val_loss: 0.0712 - val_acc: 0.9805\n",
      "Epoch 12/300\n",
      "48000/48000 [==============================] - 1s 28us/step - loss: 0.0649 - acc: 0.9798 - val_loss: 0.0671 - val_acc: 0.9814\n",
      "Epoch 13/300\n",
      "48000/48000 [==============================] - 1s 27us/step - loss: 0.0604 - acc: 0.9819 - val_loss: 0.0672 - val_acc: 0.9819\n"
     ]
    },
    {
     "data": {
      "text/plain": [
       "<keras.callbacks.History at 0x7f9b4fd2ba20>"
      ]
     },
     "execution_count": 4,
     "metadata": {},
     "output_type": "execute_result"
    }
   ],
   "source": [
    "es = EarlyStopping(monitor='val_loss')\n",
    "model.fit(x_train, y_train, batch_size = 1000, validation_split=0.2, nb_epoch=300, callbacks=[es])"
   ]
  },
  {
   "cell_type": "code",
   "execution_count": 5,
   "metadata": {},
   "outputs": [
    {
     "name": "stdout",
     "output_type": "stream",
     "text": [
      "0.9832\n"
     ]
    }
   ],
   "source": [
    "predict = model.predict_classes(x_test)\n",
    "print(sum(predict == y_test)/ 10000.0)"
   ]
  },
  {
   "cell_type": "code",
   "execution_count": null,
   "metadata": {},
   "outputs": [],
   "source": []
  },
  {
   "cell_type": "code",
   "execution_count": null,
   "metadata": {},
   "outputs": [],
   "source": []
  }
 ],
 "metadata": {
  "kernelspec": {
   "display_name": "Python 3",
   "language": "python",
   "name": "python3"
  },
  "language_info": {
   "codemirror_mode": {
    "name": "ipython",
    "version": 3
   },
   "file_extension": ".py",
   "mimetype": "text/x-python",
   "name": "python",
   "nbconvert_exporter": "python",
   "pygments_lexer": "ipython3",
   "version": "3.6.4"
  }
 },
 "nbformat": 4,
 "nbformat_minor": 2
}
