{
 "cells": [
  {
   "cell_type": "markdown",
   "metadata": {},
   "source": [
    "# cosの推定(LSTM 25ポイントを入れて次の値を予測)"
   ]
  },
  {
   "cell_type": "code",
   "execution_count": 1,
   "metadata": {},
   "outputs": [
    {
     "name": "stderr",
     "output_type": "stream",
     "text": [
      "Using TensorFlow backend.\n"
     ]
    }
   ],
   "source": [
    "import numpy as np\n",
    "from keras.models import Sequential\n",
    "from keras.layers import Dense, Dropout, LSTM\n",
    "from keras.callbacks import EarlyStopping\n",
    "import matplotlib.pyplot as plt\n",
    "%matplotlib inline\n",
    "\n",
    "#GPUの仕様に関する設定\n",
    "import tensorflow as tf\n",
    "from keras import backend as K\n",
    "config = tf.ConfigProto(\n",
    "    gpu_options = tf.GPUOptions(\n",
    "        visible_device_list = \"1\",\n",
    "        allow_growth = True,\n",
    "        per_process_gpu_memory_fraction = 0.3))\n",
    "sess = tf.Session(config=config)\n",
    "K.set_session(sess)"
   ]
  },
  {
   "cell_type": "code",
   "execution_count": 2,
   "metadata": {},
   "outputs": [],
   "source": [
    "def myplot(y,ylabel='',title=''):\n",
    "    plt.ylabel(ylabel)\n",
    "    plt.plot(y, linestyle='--', alpha=0.5)"
   ]
  },
  {
   "cell_type": "markdown",
   "metadata": {},
   "source": [
    "## cos波データの作成"
   ]
  },
  {
   "cell_type": "code",
   "execution_count": 3,
   "metadata": {},
   "outputs": [],
   "source": [
    "n_data = 2000\n",
    "n_test = 200\n",
    "noize = 0.1 * np.random.uniform(low=-1.0, high=1.0, size=n_data)\n",
    "data = np.cos(2.0*np.pi*np.arange(0,n_data)/100.0) + noize"
   ]
  },
  {
   "cell_type": "code",
   "execution_count": 4,
   "metadata": {},
   "outputs": [],
   "source": [
    "x_train = [data[i:i+25] for i in range(n_data - 25 - n_test)]\n",
    "x_train = np.array(x_train).reshape(len(x_train),25,1)\n",
    "x_test = [data[i:i+25] for i in range(n_data - n_test, n_data - 25)]\n",
    "x_test = np.array(x_test).reshape(len(x_test),25,1)\n",
    "y_train = [data[i+25] for i in range(n_data - 25 - n_test)]\n",
    "y_train = np.array(y_train).reshape(len(y_train),1)\n",
    "y_test = [data[i+25] for i in range(n_data - n_test, n_data -25)]\n",
    "y_test = np.array(y_test).reshape(len(y_test),1)"
   ]
  },
  {
   "cell_type": "markdown",
   "metadata": {},
   "source": [
    "## モデルの構築(25 - 20 -1)と学習"
   ]
  },
  {
   "cell_type": "code",
   "execution_count": 5,
   "metadata": {},
   "outputs": [
    {
     "name": "stdout",
     "output_type": "stream",
     "text": [
      "_________________________________________________________________\n",
      "Layer (type)                 Output Shape              Param #   \n",
      "=================================================================\n",
      "lstm_1 (LSTM)                (None, 20)                1760      \n",
      "_________________________________________________________________\n",
      "dropout_1 (Dropout)          (None, 20)                0         \n",
      "_________________________________________________________________\n",
      "dense_1 (Dense)              (None, 1)                 21        \n",
      "=================================================================\n",
      "Total params: 1,781\n",
      "Trainable params: 1,781\n",
      "Non-trainable params: 0\n",
      "_________________________________________________________________\n",
      "Train on 1597 samples, validate on 178 samples\n",
      "Epoch 1/100\n",
      "1597/1597 [==============================] - 2s 1ms/step - loss: 5.9850 - val_loss: 2.5886\n",
      "Epoch 2/100\n",
      "1597/1597 [==============================] - 1s 848us/step - loss: 2.1377 - val_loss: 0.5427\n",
      "Epoch 3/100\n",
      "1597/1597 [==============================] - 1s 827us/step - loss: 0.9460 - val_loss: 0.1963\n",
      "Epoch 4/100\n",
      "1597/1597 [==============================] - 1s 807us/step - loss: 0.5382 - val_loss: 0.1016\n",
      "Epoch 5/100\n",
      "1597/1597 [==============================] - 1s 821us/step - loss: 0.3411 - val_loss: 0.0580\n",
      "Epoch 6/100\n",
      "1597/1597 [==============================] - 1s 869us/step - loss: 0.2558 - val_loss: 0.0342\n",
      "Epoch 7/100\n",
      "1597/1597 [==============================] - 1s 848us/step - loss: 0.2231 - val_loss: 0.0265\n",
      "Epoch 8/100\n",
      "1597/1597 [==============================] - 1s 839us/step - loss: 0.1830 - val_loss: 0.0201\n",
      "Epoch 9/100\n",
      "1597/1597 [==============================] - 1s 819us/step - loss: 0.1458 - val_loss: 0.0165\n",
      "Epoch 10/100\n",
      "1597/1597 [==============================] - 1s 829us/step - loss: 0.1451 - val_loss: 0.0139\n",
      "Epoch 11/100\n",
      "1597/1597 [==============================] - 1s 866us/step - loss: 0.0998 - val_loss: 0.0143\n",
      "Epoch 12/100\n",
      "1597/1597 [==============================] - 1s 815us/step - loss: 0.0739 - val_loss: 0.0108\n",
      "Epoch 13/100\n",
      "1597/1597 [==============================] - 1s 841us/step - loss: 0.0638 - val_loss: 0.0126\n",
      "Epoch 14/100\n",
      "1597/1597 [==============================] - 1s 838us/step - loss: 0.0557 - val_loss: 0.0092\n",
      "Epoch 15/100\n",
      "1597/1597 [==============================] - 1s 825us/step - loss: 0.0473 - val_loss: 0.0113\n",
      "Epoch 16/100\n",
      "1597/1597 [==============================] - 1s 835us/step - loss: 0.0504 - val_loss: 0.0095\n",
      "Epoch 17/100\n",
      "1597/1597 [==============================] - 1s 818us/step - loss: 0.0457 - val_loss: 0.0085\n",
      "Epoch 18/100\n",
      "1597/1597 [==============================] - 1s 838us/step - loss: 0.0462 - val_loss: 0.0098\n",
      "Epoch 19/100\n",
      "1597/1597 [==============================] - 1s 836us/step - loss: 0.0402 - val_loss: 0.0101\n",
      "Epoch 20/100\n",
      "1597/1597 [==============================] - 1s 830us/step - loss: 0.0387 - val_loss: 0.0087\n",
      "Epoch 21/100\n",
      "1597/1597 [==============================] - 1s 836us/step - loss: 0.0412 - val_loss: 0.0099\n",
      "Epoch 22/100\n",
      "1597/1597 [==============================] - 1s 842us/step - loss: 0.0402 - val_loss: 0.0093\n",
      "Epoch 23/100\n",
      "1597/1597 [==============================] - 1s 816us/step - loss: 0.0404 - val_loss: 0.0074\n",
      "Epoch 24/100\n",
      "1597/1597 [==============================] - 1s 860us/step - loss: 0.0372 - val_loss: 0.0074\n",
      "Epoch 25/100\n",
      "1597/1597 [==============================] - 1s 860us/step - loss: 0.0369 - val_loss: 0.0060\n",
      "Epoch 26/100\n",
      "1597/1597 [==============================] - 1s 835us/step - loss: 0.0360 - val_loss: 0.0064\n",
      "Epoch 27/100\n",
      "1597/1597 [==============================] - 1s 857us/step - loss: 0.0330 - val_loss: 0.0068\n",
      "Epoch 28/100\n",
      "1597/1597 [==============================] - 1s 816us/step - loss: 0.0317 - val_loss: 0.0070\n",
      "Epoch 29/100\n",
      "1597/1597 [==============================] - 1s 844us/step - loss: 0.0343 - val_loss: 0.0068\n",
      "Epoch 30/100\n",
      "1597/1597 [==============================] - 1s 850us/step - loss: 0.0310 - val_loss: 0.0077\n",
      "Epoch 31/100\n",
      "1597/1597 [==============================] - 1s 820us/step - loss: 0.0333 - val_loss: 0.0060\n",
      "Epoch 32/100\n",
      "1597/1597 [==============================] - 1s 826us/step - loss: 0.0298 - val_loss: 0.0087\n",
      "Epoch 33/100\n",
      "1597/1597 [==============================] - 1s 845us/step - loss: 0.0349 - val_loss: 0.0081\n",
      "Epoch 34/100\n",
      "1597/1597 [==============================] - 1s 845us/step - loss: 0.0326 - val_loss: 0.0062\n",
      "Epoch 35/100\n",
      "1597/1597 [==============================] - 1s 852us/step - loss: 0.0322 - val_loss: 0.0051\n",
      "Epoch 36/100\n",
      "1597/1597 [==============================] - 1s 830us/step - loss: 0.0302 - val_loss: 0.0072\n",
      "Epoch 37/100\n",
      "1597/1597 [==============================] - 1s 854us/step - loss: 0.0302 - val_loss: 0.0070\n",
      "Epoch 38/100\n",
      "1597/1597 [==============================] - 1s 864us/step - loss: 0.0305 - val_loss: 0.0060\n",
      "Epoch 39/100\n",
      "1597/1597 [==============================] - 1s 827us/step - loss: 0.0286 - val_loss: 0.0063\n",
      "Epoch 40/100\n",
      "1597/1597 [==============================] - 1s 835us/step - loss: 0.0303 - val_loss: 0.0056\n",
      "Epoch 41/100\n",
      "1597/1597 [==============================] - 1s 824us/step - loss: 0.0261 - val_loss: 0.0075\n",
      "Epoch 42/100\n",
      "1597/1597 [==============================] - 1s 836us/step - loss: 0.0269 - val_loss: 0.0051\n",
      "Epoch 43/100\n",
      "1597/1597 [==============================] - 1s 840us/step - loss: 0.0286 - val_loss: 0.0057\n",
      "Epoch 44/100\n",
      "1597/1597 [==============================] - 1s 836us/step - loss: 0.0253 - val_loss: 0.0054\n",
      "Epoch 45/100\n",
      "1597/1597 [==============================] - 1s 838us/step - loss: 0.0256 - val_loss: 0.0082\n",
      "Epoch 46/100\n",
      "1597/1597 [==============================] - 1s 834us/step - loss: 0.0255 - val_loss: 0.0068\n",
      "Epoch 47/100\n",
      "1597/1597 [==============================] - 1s 860us/step - loss: 0.0256 - val_loss: 0.0057\n",
      "Epoch 48/100\n",
      "1597/1597 [==============================] - 1s 822us/step - loss: 0.0244 - val_loss: 0.0070\n",
      "Epoch 49/100\n",
      "1597/1597 [==============================] - 1s 821us/step - loss: 0.0266 - val_loss: 0.0085\n",
      "Epoch 50/100\n",
      "1597/1597 [==============================] - 1s 843us/step - loss: 0.0271 - val_loss: 0.0052\n",
      "Epoch 51/100\n",
      "1597/1597 [==============================] - 1s 824us/step - loss: 0.0267 - val_loss: 0.0067\n",
      "Epoch 52/100\n",
      "1597/1597 [==============================] - 1s 826us/step - loss: 0.0260 - val_loss: 0.0065\n",
      "Epoch 53/100\n",
      "1597/1597 [==============================] - 1s 835us/step - loss: 0.0251 - val_loss: 0.0061\n",
      "Epoch 54/100\n",
      "1597/1597 [==============================] - 1s 865us/step - loss: 0.0269 - val_loss: 0.0066\n",
      "Epoch 55/100\n",
      "1597/1597 [==============================] - 1s 825us/step - loss: 0.0253 - val_loss: 0.0051\n",
      "Epoch 56/100\n",
      "1597/1597 [==============================] - 1s 849us/step - loss: 0.0247 - val_loss: 0.0081\n",
      "Epoch 57/100\n",
      "1597/1597 [==============================] - 1s 839us/step - loss: 0.0260 - val_loss: 0.0053\n",
      "Epoch 58/100\n",
      "1597/1597 [==============================] - 1s 830us/step - loss: 0.0271 - val_loss: 0.0067\n",
      "Epoch 59/100\n",
      "1597/1597 [==============================] - 1s 837us/step - loss: 0.0236 - val_loss: 0.0072\n",
      "Epoch 60/100\n",
      "1597/1597 [==============================] - 1s 838us/step - loss: 0.0248 - val_loss: 0.0058\n",
      "Epoch 61/100\n",
      "1597/1597 [==============================] - 1s 814us/step - loss: 0.0251 - val_loss: 0.0052\n",
      "Epoch 62/100\n",
      "1597/1597 [==============================] - 1s 837us/step - loss: 0.0245 - val_loss: 0.0054\n",
      "Epoch 63/100\n",
      "1597/1597 [==============================] - 1s 845us/step - loss: 0.0235 - val_loss: 0.0061\n",
      "Epoch 64/100\n",
      "1597/1597 [==============================] - 1s 837us/step - loss: 0.0267 - val_loss: 0.0057\n",
      "Epoch 65/100\n",
      "1597/1597 [==============================] - 1s 833us/step - loss: 0.0262 - val_loss: 0.0064\n",
      "Epoch 66/100\n",
      "1597/1597 [==============================] - 1s 839us/step - loss: 0.0245 - val_loss: 0.0055\n",
      "Epoch 67/100\n",
      "1597/1597 [==============================] - 1s 831us/step - loss: 0.0240 - val_loss: 0.0058\n",
      "Epoch 68/100\n",
      "1597/1597 [==============================] - 1s 833us/step - loss: 0.0249 - val_loss: 0.0081\n",
      "Epoch 69/100\n",
      "1597/1597 [==============================] - 1s 826us/step - loss: 0.0231 - val_loss: 0.0050\n",
      "Epoch 70/100\n",
      "1597/1597 [==============================] - 1s 850us/step - loss: 0.0263 - val_loss: 0.0053\n",
      "Epoch 71/100\n"
     ]
    },
    {
     "name": "stdout",
     "output_type": "stream",
     "text": [
      "1597/1597 [==============================] - 1s 827us/step - loss: 0.0268 - val_loss: 0.0055\n",
      "Epoch 72/100\n",
      "1597/1597 [==============================] - 1s 828us/step - loss: 0.0267 - val_loss: 0.0054\n",
      "Epoch 73/100\n",
      "1597/1597 [==============================] - 1s 837us/step - loss: 0.0233 - val_loss: 0.0053\n",
      "Epoch 74/100\n",
      "1597/1597 [==============================] - 1s 821us/step - loss: 0.0257 - val_loss: 0.0082\n",
      "Epoch 75/100\n",
      "1597/1597 [==============================] - 1s 843us/step - loss: 0.0242 - val_loss: 0.0070\n",
      "Epoch 76/100\n",
      "1597/1597 [==============================] - 1s 848us/step - loss: 0.0255 - val_loss: 0.0051\n",
      "Epoch 77/100\n",
      "1597/1597 [==============================] - 1s 862us/step - loss: 0.0240 - val_loss: 0.0053\n",
      "Epoch 78/100\n",
      "1597/1597 [==============================] - 1s 830us/step - loss: 0.0249 - val_loss: 0.0052\n",
      "Epoch 79/100\n",
      "1597/1597 [==============================] - 1s 854us/step - loss: 0.0233 - val_loss: 0.0050\n",
      "Epoch 80/100\n",
      "1597/1597 [==============================] - 1s 861us/step - loss: 0.0254 - val_loss: 0.0064\n",
      "Epoch 81/100\n",
      "1597/1597 [==============================] - 1s 853us/step - loss: 0.0239 - val_loss: 0.0051\n",
      "Epoch 82/100\n",
      "1597/1597 [==============================] - 1s 845us/step - loss: 0.0259 - val_loss: 0.0051\n",
      "Epoch 83/100\n",
      "1597/1597 [==============================] - 1s 814us/step - loss: 0.0260 - val_loss: 0.0050\n",
      "Epoch 84/100\n",
      "1597/1597 [==============================] - 1s 846us/step - loss: 0.0241 - val_loss: 0.0077\n",
      "Epoch 85/100\n",
      "1597/1597 [==============================] - 1s 849us/step - loss: 0.0239 - val_loss: 0.0057\n",
      "Epoch 86/100\n",
      "1597/1597 [==============================] - 1s 826us/step - loss: 0.0239 - val_loss: 0.0046\n",
      "Epoch 87/100\n",
      "1597/1597 [==============================] - 1s 834us/step - loss: 0.0236 - val_loss: 0.0058\n",
      "Epoch 88/100\n",
      "1597/1597 [==============================] - 1s 854us/step - loss: 0.0244 - val_loss: 0.0050\n",
      "Epoch 89/100\n",
      "1597/1597 [==============================] - 1s 813us/step - loss: 0.0229 - val_loss: 0.0071\n",
      "Epoch 90/100\n",
      "1597/1597 [==============================] - 1s 852us/step - loss: 0.0248 - val_loss: 0.0080\n",
      "Epoch 91/100\n",
      "1597/1597 [==============================] - 1s 856us/step - loss: 0.0239 - val_loss: 0.0053\n",
      "Epoch 92/100\n",
      "1597/1597 [==============================] - 1s 850us/step - loss: 0.0234 - val_loss: 0.0052\n",
      "Epoch 93/100\n",
      "1597/1597 [==============================] - 1s 865us/step - loss: 0.0250 - val_loss: 0.0051\n",
      "Epoch 94/100\n",
      "1597/1597 [==============================] - 1s 844us/step - loss: 0.0248 - val_loss: 0.0053\n",
      "Epoch 95/100\n",
      "1597/1597 [==============================] - 1s 840us/step - loss: 0.0243 - val_loss: 0.0068\n",
      "Epoch 96/100\n",
      "1597/1597 [==============================] - 1s 833us/step - loss: 0.0248 - val_loss: 0.0050\n",
      "Epoch 97/100\n",
      "1597/1597 [==============================] - 1s 830us/step - loss: 0.0259 - val_loss: 0.0051\n",
      "Epoch 98/100\n",
      "1597/1597 [==============================] - 1s 837us/step - loss: 0.0235 - val_loss: 0.0051\n",
      "Epoch 99/100\n",
      "1597/1597 [==============================] - 1s 838us/step - loss: 0.0256 - val_loss: 0.0072\n",
      "Epoch 100/100\n",
      "1597/1597 [==============================] - 1s 833us/step - loss: 0.0247 - val_loss: 0.0052\n"
     ]
    },
    {
     "data": {
      "text/plain": [
       "<keras.callbacks.History at 0x7f55b01ce7b8>"
      ]
     },
     "execution_count": 5,
     "metadata": {},
     "output_type": "execute_result"
    }
   ],
   "source": [
    "model = Sequential()\n",
    "model.add(LSTM(20, kernel_initializer = 'he_normal', input_shape=(25,1), activation = 'relu'))\n",
    "model.add(Dropout(0.2))\n",
    "model.add(Dense(1,kernel_initializer = 'he_normal', activation='linear'))\n",
    "\n",
    "model.compile(loss='mean_squared_error', optimizer = 'adam')\n",
    "model.summary()\n",
    "model.fit(x_train, y_train, epochs=100, batch_size = 50, validation_split=0.1)"
   ]
  },
  {
   "cell_type": "markdown",
   "metadata": {},
   "source": [
    "## モデルの評価"
   ]
  },
  {
   "cell_type": "code",
   "execution_count": 6,
   "metadata": {},
   "outputs": [
    {
     "data": {
      "image/png": "[encoded data removed]",
      "text/plain": [
       "<matplotlib.figure.Figure at 0x7f55c3eafdd8>"
      ]
     },
     "metadata": {},
     "output_type": "display_data"
    }
   ],
   "source": [
    "predict = model.predict(x_test)\n",
    "myplot(predict)\n",
    "myplot(y_test)"
   ]
  },
  {
   "cell_type": "code",
   "execution_count": 7,
   "metadata": {},
   "outputs": [
    {
     "data": {
      "image/png": "[encoded data removed]",
      "text/plain": [
       "<matplotlib.figure.Figure at 0x7f55880696d8>"
      ]
     },
     "metadata": {},
     "output_type": "display_data"
    }
   ],
   "source": [
    "#テストデータの推測(25データから遠い未来の情報)\n",
    "Z = x_test[:1]\n",
    "predicted = []\n",
    "for i in range(n_test - 25):\n",
    "    z_ = Z[-1:]\n",
    "    y_ = model.predict(z_)\n",
    "    sequence_ = np.concatenate((z_.reshape(25,1)[1:],y_),axis=0).reshape(1,25,1)\n",
    "    \n",
    "    Z = np.append(Z, sequence_, axis=0)\n",
    "    predicted.append(y_.reshape(-1))\n",
    "    \n",
    "myplot(predicted)  \n",
    "myplot(y_test)"
   ]
  },
  {
   "cell_type": "code",
   "execution_count": 8,
   "metadata": {},
   "outputs": [
    {
     "data": {
      "image/png": "[encoded data removed]",
      "text/plain": [
       "<matplotlib.figure.Figure at 0x7f557c7194e0>"
      ]
     },
     "metadata": {},
     "output_type": "display_data"
    }
   ],
   "source": [
    "#学習データの推測(25データから遠い未来の情報)\n",
    "Z = x_train[:1]\n",
    "predicted = []\n",
    "for i in range(n_test - 25):\n",
    "    z_ = Z[-1:]\n",
    "    y_ = model.predict(z_)\n",
    "    sequence_ = np.concatenate((z_.reshape(25,1)[1:],y_),axis=0).reshape(1,25,1)\n",
    "    \n",
    "    Z = np.append(Z, sequence_, axis=0)\n",
    "    predicted.append(y_.reshape(-1))\n",
    "    \n",
    "myplot(predicted)  \n",
    "myplot(y_train[:n_test-25])"
   ]
  },
  {
   "cell_type": "markdown",
   "metadata": {},
   "source": [
    "## モデルの保存"
   ]
  },
  {
   "cell_type": "code",
   "execution_count": 9,
   "metadata": {},
   "outputs": [],
   "source": [
    "model.save('./model/cos_pred_LSTM.hdf5')"
   ]
  }
 ],
 "metadata": {
  "kernelspec": {
   "display_name": "Python 3",
   "language": "python",
   "name": "python3"
  },
  "language_info": {
   "codemirror_mode": {
    "name": "ipython",
    "version": 3
   },
   "file_extension": ".py",
   "mimetype": "text/x-python",
   "name": "python",
   "nbconvert_exporter": "python",
   "pygments_lexer": "ipython3",
   "version": "3.6.4"
  }
 },
 "nbformat": 4,
 "nbformat_minor": 2
}
