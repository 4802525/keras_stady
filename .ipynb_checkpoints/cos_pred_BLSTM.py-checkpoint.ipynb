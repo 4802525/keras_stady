{
 "cells": [
  {
   "cell_type": "markdown",
   "metadata": {},
   "source": [
    "# cosの推定(BLSTM 25ポイントを入れて次の値を予測)"
   ]
  },
  {
   "cell_type": "code",
   "execution_count": 1,
   "metadata": {},
   "outputs": [
    {
     "name": "stderr",
     "output_type": "stream",
     "text": [
      "Using TensorFlow backend.\n"
     ]
    }
   ],
   "source": [
    "import numpy as np\n",
    "from keras.models import Sequential\n",
    "from keras.layers import Dense, Dropout, LSTM\n",
    "from keras.layers.wrappers import Bidirectional\n",
    "import matplotlib.pyplot as plt\n",
    "%matplotlib inline\n",
    "\n",
    "#GPUの仕様に関する設定\n",
    "import tensorflow as tf\n",
    "from keras import backend as K\n",
    "config = tf.ConfigProto(\n",
    "    gpu_options = tf.GPUOptions(\n",
    "        visible_device_list = \"1\",\n",
    "        allow_growth = True,\n",
    "        per_process_gpu_memory_fraction = 0.3))\n",
    "sess = tf.Session(config=config)\n",
    "K.set_session(sess)"
   ]
  },
  {
   "cell_type": "code",
   "execution_count": 2,
   "metadata": {},
   "outputs": [],
   "source": [
    "def myplot(y,ylabel='',title=''):\n",
    "    plt.ylabel(ylabel)\n",
    "    plt.plot(y, linestyle='--', alpha=0.5)"
   ]
  },
  {
   "cell_type": "markdown",
   "metadata": {},
   "source": [
    "## cos波データの作成"
   ]
  },
  {
   "cell_type": "code",
   "execution_count": 3,
   "metadata": {},
   "outputs": [],
   "source": [
    "n_data = 2000\n",
    "n_test = 200\n",
    "noize = 0.1 * np.random.uniform(low=-1.0, high=1.0, size=n_data)\n",
    "data = np.cos(2.0*np.pi*np.arange(0,n_data)/100.0) + noize"
   ]
  },
  {
   "cell_type": "code",
   "execution_count": 4,
   "metadata": {},
   "outputs": [],
   "source": [
    "x_train = [data[i:i+25] for i in range(n_data - 25 - n_test)]\n",
    "x_train = np.array(x_train).reshape(len(x_train),25,1)\n",
    "x_test = [data[i:i+25] for i in range(n_data - n_test, n_data - 25)]\n",
    "x_test = np.array(x_test).reshape(len(x_test),25,1)\n",
    "y_train = [data[i+25] for i in range(n_data - 25 - n_test)]\n",
    "y_train = np.array(y_train).reshape(len(y_train),1)\n",
    "y_test = [data[i+25] for i in range(n_data - n_test, n_data -25)]\n",
    "y_test = np.array(y_test).reshape(len(y_test),1)"
   ]
  },
  {
   "cell_type": "markdown",
   "metadata": {},
   "source": [
    "## モデルの構築(25 - 20 -1)と学習"
   ]
  },
  {
   "cell_type": "code",
   "execution_count": 5,
   "metadata": {},
   "outputs": [
    {
     "name": "stdout",
     "output_type": "stream",
     "text": [
      "Train on 1597 samples, validate on 178 samples\n",
      "Epoch 1/100\n",
      "1597/1597 [==============================] - 4s 2ms/step - loss: 4.0422 - val_loss: 0.4188\n",
      "Epoch 2/100\n",
      "1597/1597 [==============================] - 2s 1ms/step - loss: 0.6618 - val_loss: 0.1051\n",
      "Epoch 3/100\n",
      "1597/1597 [==============================] - 2s 1ms/step - loss: 0.3342 - val_loss: 0.0453\n",
      "Epoch 4/100\n",
      "1597/1597 [==============================] - 2s 1ms/step - loss: 0.2730 - val_loss: 0.0275\n",
      "Epoch 5/100\n",
      "1597/1597 [==============================] - 2s 1ms/step - loss: 0.1704 - val_loss: 0.0129\n",
      "Epoch 6/100\n",
      "1597/1597 [==============================] - 2s 1ms/step - loss: 0.1372 - val_loss: 0.0187\n",
      "Epoch 7/100\n",
      "1597/1597 [==============================] - 2s 1ms/step - loss: 0.1016 - val_loss: 0.0097\n",
      "Epoch 8/100\n",
      "1597/1597 [==============================] - 2s 1ms/step - loss: 0.0836 - val_loss: 0.0075\n",
      "Epoch 9/100\n",
      "1597/1597 [==============================] - 2s 1ms/step - loss: 0.0656 - val_loss: 0.0073\n",
      "Epoch 10/100\n",
      "1597/1597 [==============================] - 2s 1ms/step - loss: 0.0599 - val_loss: 0.0072\n",
      "Epoch 11/100\n",
      "1597/1597 [==============================] - 2s 1ms/step - loss: 0.0477 - val_loss: 0.0058\n",
      "Epoch 12/100\n",
      "1597/1597 [==============================] - 2s 1ms/step - loss: 0.0433 - val_loss: 0.0060\n",
      "Epoch 13/100\n",
      "1597/1597 [==============================] - 2s 1ms/step - loss: 0.0441 - val_loss: 0.0064\n",
      "Epoch 14/100\n",
      "1597/1597 [==============================] - 2s 1ms/step - loss: 0.0348 - val_loss: 0.0067\n",
      "Epoch 15/100\n",
      "1597/1597 [==============================] - 2s 1ms/step - loss: 0.0359 - val_loss: 0.0052\n",
      "Epoch 16/100\n",
      "1597/1597 [==============================] - 2s 1ms/step - loss: 0.0347 - val_loss: 0.0051\n",
      "Epoch 17/100\n",
      "1597/1597 [==============================] - 2s 1ms/step - loss: 0.0314 - val_loss: 0.0070\n",
      "Epoch 18/100\n",
      "1597/1597 [==============================] - 2s 1ms/step - loss: 0.0320 - val_loss: 0.0069\n",
      "Epoch 19/100\n",
      "1597/1597 [==============================] - 2s 1ms/step - loss: 0.0282 - val_loss: 0.0049\n",
      "Epoch 20/100\n",
      "1597/1597 [==============================] - 2s 1ms/step - loss: 0.0274 - val_loss: 0.0055\n",
      "Epoch 21/100\n",
      "1597/1597 [==============================] - 2s 1ms/step - loss: 0.0264 - val_loss: 0.0059\n",
      "Epoch 22/100\n",
      "1597/1597 [==============================] - 2s 1ms/step - loss: 0.0252 - val_loss: 0.0048\n",
      "Epoch 23/100\n",
      "1597/1597 [==============================] - 2s 1ms/step - loss: 0.0237 - val_loss: 0.0045\n",
      "Epoch 24/100\n",
      "1597/1597 [==============================] - 2s 1ms/step - loss: 0.0234 - val_loss: 0.0046\n",
      "Epoch 25/100\n",
      "1597/1597 [==============================] - 2s 1ms/step - loss: 0.0226 - val_loss: 0.0054\n",
      "Epoch 26/100\n",
      "1597/1597 [==============================] - 2s 1ms/step - loss: 0.0237 - val_loss: 0.0056\n",
      "Epoch 27/100\n",
      "1597/1597 [==============================] - 2s 1ms/step - loss: 0.0210 - val_loss: 0.0047\n",
      "Epoch 28/100\n",
      "1597/1597 [==============================] - 2s 2ms/step - loss: 0.0200 - val_loss: 0.0053\n",
      "Epoch 29/100\n",
      "1597/1597 [==============================] - 2s 1ms/step - loss: 0.0193 - val_loss: 0.0054\n",
      "Epoch 30/100\n",
      "1597/1597 [==============================] - 2s 1ms/step - loss: 0.0203 - val_loss: 0.0048\n",
      "Epoch 31/100\n",
      "1597/1597 [==============================] - 2s 1ms/step - loss: 0.0187 - val_loss: 0.0045\n",
      "Epoch 32/100\n",
      "1597/1597 [==============================] - 2s 1ms/step - loss: 0.0210 - val_loss: 0.0048\n",
      "Epoch 33/100\n",
      "1597/1597 [==============================] - 2s 1ms/step - loss: 0.0202 - val_loss: 0.0048\n",
      "Epoch 34/100\n",
      "1597/1597 [==============================] - 2s 1ms/step - loss: 0.0209 - val_loss: 0.0052\n",
      "Epoch 35/100\n",
      "1597/1597 [==============================] - 2s 1ms/step - loss: 0.0193 - val_loss: 0.0049\n",
      "Epoch 36/100\n",
      "1597/1597 [==============================] - 2s 1ms/step - loss: 0.0179 - val_loss: 0.0048\n",
      "Epoch 37/100\n",
      "1597/1597 [==============================] - 2s 1ms/step - loss: 0.0182 - val_loss: 0.0048\n",
      "Epoch 38/100\n",
      "1597/1597 [==============================] - 2s 1ms/step - loss: 0.0195 - val_loss: 0.0051\n",
      "Epoch 39/100\n",
      "1597/1597 [==============================] - 2s 1ms/step - loss: 0.0190 - val_loss: 0.0052\n",
      "Epoch 40/100\n",
      "1597/1597 [==============================] - 2s 1ms/step - loss: 0.0181 - val_loss: 0.0047\n",
      "Epoch 41/100\n",
      "1597/1597 [==============================] - 2s 1ms/step - loss: 0.0178 - val_loss: 0.0046\n",
      "Epoch 42/100\n",
      "1597/1597 [==============================] - 2s 1ms/step - loss: 0.0177 - val_loss: 0.0049\n",
      "Epoch 43/100\n",
      "1597/1597 [==============================] - 2s 1ms/step - loss: 0.0180 - val_loss: 0.0041\n",
      "Epoch 44/100\n",
      "1597/1597 [==============================] - 2s 1ms/step - loss: 0.0163 - val_loss: 0.0046\n",
      "Epoch 45/100\n",
      "1597/1597 [==============================] - 2s 1ms/step - loss: 0.0179 - val_loss: 0.0047\n",
      "Epoch 46/100\n",
      "1597/1597 [==============================] - 2s 1ms/step - loss: 0.0168 - val_loss: 0.0048\n",
      "Epoch 47/100\n",
      "1597/1597 [==============================] - 2s 1ms/step - loss: 0.0172 - val_loss: 0.0051\n",
      "Epoch 48/100\n",
      "1597/1597 [==============================] - 2s 1ms/step - loss: 0.0160 - val_loss: 0.0046\n",
      "Epoch 49/100\n",
      "1597/1597 [==============================] - 2s 1ms/step - loss: 0.0163 - val_loss: 0.0047\n",
      "Epoch 50/100\n",
      "1597/1597 [==============================] - 2s 1ms/step - loss: 0.0161 - val_loss: 0.0044\n",
      "Epoch 51/100\n",
      "1597/1597 [==============================] - 2s 1ms/step - loss: 0.0151 - val_loss: 0.0050\n",
      "Epoch 52/100\n",
      "1597/1597 [==============================] - 2s 1ms/step - loss: 0.0150 - val_loss: 0.0043\n",
      "Epoch 53/100\n",
      "1597/1597 [==============================] - 2s 1ms/step - loss: 0.0154 - val_loss: 0.0045\n",
      "Epoch 54/100\n",
      "1597/1597 [==============================] - 2s 1ms/step - loss: 0.0149 - val_loss: 0.0047\n",
      "Epoch 55/100\n",
      "1597/1597 [==============================] - 2s 1ms/step - loss: 0.0172 - val_loss: 0.0053\n",
      "Epoch 56/100\n",
      "1597/1597 [==============================] - 2s 2ms/step - loss: 0.0155 - val_loss: 0.0041\n",
      "Epoch 57/100\n",
      "1597/1597 [==============================] - 2s 1ms/step - loss: 0.0144 - val_loss: 0.0045\n",
      "Epoch 58/100\n",
      "1597/1597 [==============================] - 2s 2ms/step - loss: 0.0152 - val_loss: 0.0044\n",
      "Epoch 59/100\n",
      "1597/1597 [==============================] - 2s 1ms/step - loss: 0.0149 - val_loss: 0.0041\n",
      "Epoch 60/100\n",
      "1597/1597 [==============================] - 2s 1ms/step - loss: 0.0159 - val_loss: 0.0044\n",
      "Epoch 61/100\n",
      "1597/1597 [==============================] - 2s 1ms/step - loss: 0.0144 - val_loss: 0.0045\n",
      "Epoch 62/100\n",
      "1597/1597 [==============================] - 2s 1ms/step - loss: 0.0145 - val_loss: 0.0039\n",
      "Epoch 63/100\n",
      "1597/1597 [==============================] - 2s 1ms/step - loss: 0.0143 - val_loss: 0.0044\n",
      "Epoch 64/100\n",
      "1597/1597 [==============================] - 2s 1ms/step - loss: 0.0147 - val_loss: 0.0049\n",
      "Epoch 65/100\n",
      "1597/1597 [==============================] - 2s 1ms/step - loss: 0.0147 - val_loss: 0.0048\n",
      "Epoch 66/100\n",
      "1597/1597 [==============================] - 2s 1ms/step - loss: 0.0152 - val_loss: 0.0039\n",
      "Epoch 67/100\n",
      "1597/1597 [==============================] - 2s 1ms/step - loss: 0.0145 - val_loss: 0.0040\n",
      "Epoch 68/100\n",
      "1597/1597 [==============================] - 2s 1ms/step - loss: 0.0138 - val_loss: 0.0039\n",
      "Epoch 69/100\n",
      "1597/1597 [==============================] - 2s 1ms/step - loss: 0.0140 - val_loss: 0.0040\n",
      "Epoch 70/100\n",
      "1597/1597 [==============================] - 2s 1ms/step - loss: 0.0146 - val_loss: 0.0052\n",
      "Epoch 71/100\n",
      "1597/1597 [==============================] - 2s 1ms/step - loss: 0.0148 - val_loss: 0.0042\n",
      "Epoch 72/100\n",
      "1597/1597 [==============================] - 2s 1ms/step - loss: 0.0153 - val_loss: 0.0039\n",
      "Epoch 73/100\n",
      "1597/1597 [==============================] - 2s 1ms/step - loss: 0.0138 - val_loss: 0.0045\n",
      "Epoch 74/100\n",
      "1597/1597 [==============================] - 2s 1ms/step - loss: 0.0142 - val_loss: 0.0040\n",
      "Epoch 75/100\n",
      "1597/1597 [==============================] - 2s 1ms/step - loss: 0.0144 - val_loss: 0.0044\n",
      "Epoch 76/100\n",
      "1597/1597 [==============================] - 2s 2ms/step - loss: 0.0143 - val_loss: 0.0040\n",
      "Epoch 77/100\n",
      "1597/1597 [==============================] - 2s 1ms/step - loss: 0.0146 - val_loss: 0.0041\n",
      "Epoch 78/100\n",
      "1597/1597 [==============================] - 2s 1ms/step - loss: 0.0137 - val_loss: 0.0042\n",
      "Epoch 79/100\n"
     ]
    },
    {
     "name": "stdout",
     "output_type": "stream",
     "text": [
      "1597/1597 [==============================] - 2s 1ms/step - loss: 0.0146 - val_loss: 0.0041\n",
      "Epoch 80/100\n",
      "1597/1597 [==============================] - 2s 1ms/step - loss: 0.0141 - val_loss: 0.0040\n",
      "Epoch 81/100\n",
      "1597/1597 [==============================] - 2s 1ms/step - loss: 0.0139 - val_loss: 0.0050\n",
      "Epoch 82/100\n",
      "1597/1597 [==============================] - 2s 1ms/step - loss: 0.0140 - val_loss: 0.0045\n",
      "Epoch 83/100\n",
      "1597/1597 [==============================] - 2s 1ms/step - loss: 0.0143 - val_loss: 0.0038\n",
      "Epoch 84/100\n",
      "1597/1597 [==============================] - 2s 1ms/step - loss: 0.0150 - val_loss: 0.0042\n",
      "Epoch 85/100\n",
      "1597/1597 [==============================] - 2s 1ms/step - loss: 0.0129 - val_loss: 0.0041\n",
      "Epoch 86/100\n",
      "1597/1597 [==============================] - 2s 1ms/step - loss: 0.0149 - val_loss: 0.0043\n",
      "Epoch 87/100\n",
      "1597/1597 [==============================] - 2s 1ms/step - loss: 0.0143 - val_loss: 0.0046\n",
      "Epoch 88/100\n",
      "1597/1597 [==============================] - 2s 1ms/step - loss: 0.0137 - val_loss: 0.0040\n",
      "Epoch 89/100\n",
      "1597/1597 [==============================] - 2s 1ms/step - loss: 0.0146 - val_loss: 0.0037\n",
      "Epoch 90/100\n",
      "1597/1597 [==============================] - 2s 1ms/step - loss: 0.0140 - val_loss: 0.0042\n",
      "Epoch 91/100\n",
      "1597/1597 [==============================] - 2s 2ms/step - loss: 0.0144 - val_loss: 0.0056\n",
      "Epoch 92/100\n",
      "1597/1597 [==============================] - 2s 1ms/step - loss: 0.0139 - val_loss: 0.0039\n",
      "Epoch 93/100\n",
      "1597/1597 [==============================] - 2s 1ms/step - loss: 0.0135 - val_loss: 0.0044\n",
      "Epoch 94/100\n",
      "1597/1597 [==============================] - 2s 1ms/step - loss: 0.0142 - val_loss: 0.0037\n",
      "Epoch 95/100\n",
      "1597/1597 [==============================] - 2s 1ms/step - loss: 0.0131 - val_loss: 0.0040\n",
      "Epoch 96/100\n",
      "1597/1597 [==============================] - 2s 1ms/step - loss: 0.0131 - val_loss: 0.0039\n",
      "Epoch 97/100\n",
      "1597/1597 [==============================] - 2s 1ms/step - loss: 0.0135 - val_loss: 0.0040\n",
      "Epoch 98/100\n",
      "1597/1597 [==============================] - 2s 1ms/step - loss: 0.0129 - val_loss: 0.0042\n",
      "Epoch 99/100\n",
      "1597/1597 [==============================] - 2s 1ms/step - loss: 0.0126 - val_loss: 0.0039\n",
      "Epoch 100/100\n",
      "1597/1597 [==============================] - 2s 1ms/step - loss: 0.0125 - val_loss: 0.0041\n"
     ]
    },
    {
     "data": {
      "text/plain": [
       "<keras.callbacks.History at 0x7f5548f6b0f0>"
      ]
     },
     "execution_count": 5,
     "metadata": {},
     "output_type": "execute_result"
    }
   ],
   "source": [
    "model = Sequential()\n",
    "model.add(Bidirectional(LSTM(20, kernel_initializer = 'he_normal', input_shape=(25,1), activation = 'relu')))\n",
    "model.add(Dropout(0.2))\n",
    "model.add(Dense(1,kernel_initializer = 'he_normal', activation='linear'))\n",
    "\n",
    "model.compile(loss='mean_squared_error', optimizer = 'adam')\n",
    "model.fit(x_train, y_train, epochs=100, batch_size = 50, validation_split=0.1)"
   ]
  },
  {
   "cell_type": "markdown",
   "metadata": {},
   "source": [
    "## モデルの評価"
   ]
  },
  {
   "cell_type": "code",
   "execution_count": 6,
   "metadata": {},
   "outputs": [
    {
     "data": {
      "image/png": "[encoded data removed]",
      "text/plain": [
       "<matplotlib.figure.Figure at 0x7f5548f6f8d0>"
      ]
     },
     "metadata": {},
     "output_type": "display_data"
    }
   ],
   "source": [
    "predict = model.predict(x_test)\n",
    "myplot(predict)\n",
    "myplot(y_test)"
   ]
  },
  {
   "cell_type": "code",
   "execution_count": 7,
   "metadata": {},
   "outputs": [
    {
     "data": {
      "image/png": "[encoded data removed]",
      "text/plain": [
       "<matplotlib.figure.Figure at 0x7f54c2c45080>"
      ]
     },
     "metadata": {},
     "output_type": "display_data"
    }
   ],
   "source": [
    "#テストデータの推測(25データから遠い未来の情報)\n",
    "Z = x_test[:1]\n",
    "predicted = []\n",
    "for i in range(n_test - 25):\n",
    "    z_ = Z[-1:]\n",
    "    y_ = model.predict(z_)\n",
    "    sequence_ = np.concatenate((z_.reshape(25,1)[1:],y_),axis=0).reshape(1,25,1)\n",
    "    \n",
    "    Z = np.append(Z, sequence_, axis=0)\n",
    "    predicted.append(y_.reshape(-1))\n",
    "    \n",
    "myplot(predicted)  \n",
    "myplot(y_test)"
   ]
  },
  {
   "cell_type": "code",
   "execution_count": 8,
   "metadata": {},
   "outputs": [
    {
     "data": {
      "image/png": "[encoded data removed]",
      "text/plain": [
       "<matplotlib.figure.Figure at 0x7f54c19114a8>"
      ]
     },
     "metadata": {},
     "output_type": "display_data"
    }
   ],
   "source": [
    "#学習データの推測(25データから遠い未来の情報)\n",
    "Z = x_train[:1]\n",
    "predicted = []\n",
    "for i in range(n_test - 25):\n",
    "    z_ = Z[-1:]\n",
    "    y_ = model.predict(z_)\n",
    "    sequence_ = np.concatenate((z_.reshape(25,1)[1:],y_),axis=0).reshape(1,25,1)\n",
    "    \n",
    "    Z = np.append(Z, sequence_, axis=0)\n",
    "    predicted.append(y_.reshape(-1))\n",
    "    \n",
    "myplot(predicted)  \n",
    "myplot(y_train[:n_test-25])"
   ]
  },
  {
   "cell_type": "markdown",
   "metadata": {},
   "source": [
    "## モデルの保存"
   ]
  },
  {
   "cell_type": "code",
   "execution_count": 9,
   "metadata": {},
   "outputs": [],
   "source": [
    "model.save('./model/cos_pred_LSTM.hdf5')"
   ]
  }
 ],
 "metadata": {
  "kernelspec": {
   "display_name": "Python 3",
   "language": "python",
   "name": "python3"
  },
  "language_info": {
   "codemirror_mode": {
    "name": "ipython",
    "version": 3
   },
   "file_extension": ".py",
   "mimetype": "text/x-python",
   "name": "python",
   "nbconvert_exporter": "python",
   "pygments_lexer": "ipython3",
   "version": "3.6.4"
  }
 },
 "nbformat": 4,
 "nbformat_minor": 2
}
