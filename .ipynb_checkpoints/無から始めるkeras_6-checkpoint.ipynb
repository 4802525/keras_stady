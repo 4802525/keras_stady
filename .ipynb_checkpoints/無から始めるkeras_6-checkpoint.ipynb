{
 "cells": [
  {
   "cell_type": "markdown",
   "metadata": {},
   "source": [
    "# 無から始めるkeras 5 (Mnist認識CNN)"
   ]
  },
  {
   "cell_type": "code",
   "execution_count": 1,
   "metadata": {},
   "outputs": [
    {
     "name": "stderr",
     "output_type": "stream",
     "text": [
      "Using TensorFlow backend.\n"
     ]
    }
   ],
   "source": [
    "from keras.datasets import mnist\n",
    "from keras.utils import np_utils\n",
    "from keras.models import Sequential\n",
    "from keras.layers import Dense, Activation, Dropout, Flatten, Conv2D, MaxPooling2D, Reshape\n",
    "from keras.callbacks import EarlyStopping\n",
    "\n",
    "#GPUの仕様に関する設定\n",
    "import tensorflow as tf\n",
    "from keras import backend as K\n",
    "config = tf.ConfigProto(\n",
    "    gpu_options = tf.GPUOptions(\n",
    "        visible_device_list = \"1\",\n",
    "        allow_growth = True,\n",
    "        per_process_gpu_memory_fraction = 0.3))\n",
    "sess = tf.Session(config=config)\n",
    "K.set_session(sess)"
   ]
  },
  {
   "cell_type": "markdown",
   "metadata": {},
   "source": [
    "## Mnist読み込み"
   ]
  },
  {
   "cell_type": "code",
   "execution_count": 2,
   "metadata": {},
   "outputs": [],
   "source": [
    "(x_train, y_train), (x_test, y_test) = mnist.load_data()\n",
    "x_train = x_train/255.0\n",
    "x_test = x_test/255.0\n",
    "y_train = np_utils.to_categorical(y_train, num_classes = 10)"
   ]
  },
  {
   "cell_type": "markdown",
   "metadata": {},
   "source": [
    "## モデルの作成"
   ]
  },
  {
   "cell_type": "code",
   "execution_count": 3,
   "metadata": {},
   "outputs": [],
   "source": [
    "model = Sequential([\n",
    "    Reshape((28,28,1), input_shape=(28,28)),\n",
    "    Conv2D(50, (5,5), activation = 'relu'),\n",
    "    Conv2D(50, (3,3), activation = 'relu'),\n",
    "    MaxPooling2D(pool_size=(2,2)),\n",
    "    Flatten(),\n",
    "    Dropout(0.2),\n",
    "    Dense(100, activation = 'relu'),\n",
    "    Dropout(0.4),\n",
    "    Dense(10, activation = 'softmax')\n",
    "])\n",
    "model.compile('adam', 'categorical_crossentropy', metrics=['accuracy'])"
   ]
  },
  {
   "cell_type": "code",
   "execution_count": 4,
   "metadata": {},
   "outputs": [
    {
     "name": "stderr",
     "output_type": "stream",
     "text": [
      "/usr/local/src/pyenv/versions/anaconda3-5.1.0/lib/python3.6/site-packages/ipykernel_launcher.py:2: UserWarning: The `nb_epoch` argument in `fit` has been renamed `epochs`.\n",
      "  \n"
     ]
    },
    {
     "name": "stdout",
     "output_type": "stream",
     "text": [
      "Train on 48000 samples, validate on 12000 samples\n",
      "Epoch 1/300\n",
      "48000/48000 [==============================] - 5s 106us/step - loss: 0.2324 - acc: 0.9290 - val_loss: 0.0647 - val_acc: 0.9802\n",
      "Epoch 2/300\n",
      "48000/48000 [==============================] - 4s 81us/step - loss: 0.0785 - acc: 0.9767 - val_loss: 0.0451 - val_acc: 0.9869\n",
      "Epoch 3/300\n",
      "48000/48000 [==============================] - 4s 82us/step - loss: 0.0603 - acc: 0.9816 - val_loss: 0.0385 - val_acc: 0.9888\n",
      "Epoch 4/300\n",
      "48000/48000 [==============================] - 4s 81us/step - loss: 0.0467 - acc: 0.9853 - val_loss: 0.0365 - val_acc: 0.9899\n",
      "Epoch 5/300\n",
      "48000/48000 [==============================] - 4s 82us/step - loss: 0.0400 - acc: 0.9873 - val_loss: 0.0418 - val_acc: 0.9877\n"
     ]
    },
    {
     "data": {
      "text/plain": [
       "<keras.callbacks.History at 0x7ff9a9f6f3c8>"
      ]
     },
     "execution_count": 4,
     "metadata": {},
     "output_type": "execute_result"
    }
   ],
   "source": [
    "es = EarlyStopping(monitor='val_loss')\n",
    "model.fit(x_train, y_train, batch_size = 100, validation_split=0.2, nb_epoch=300, callbacks=[es])"
   ]
  },
  {
   "cell_type": "code",
   "execution_count": 5,
   "metadata": {},
   "outputs": [
    {
     "name": "stdout",
     "output_type": "stream",
     "text": [
      "0.9891\n"
     ]
    }
   ],
   "source": [
    "predict = model.predict_classes(x_test)\n",
    "print(sum(predict == y_test)/ 10000.0)"
   ]
  },
  {
   "cell_type": "code",
   "execution_count": null,
   "metadata": {},
   "outputs": [],
   "source": []
  },
  {
   "cell_type": "code",
   "execution_count": null,
   "metadata": {},
   "outputs": [],
   "source": []
  }
 ],
 "metadata": {
  "kernelspec": {
   "display_name": "Python 3",
   "language": "python",
   "name": "python3"
  },
  "language_info": {
   "codemirror_mode": {
    "name": "ipython",
    "version": 3
   },
   "file_extension": ".py",
   "mimetype": "text/x-python",
   "name": "python",
   "nbconvert_exporter": "python",
   "pygments_lexer": "ipython3",
   "version": "3.6.4"
  }
 },
 "nbformat": 4,
 "nbformat_minor": 2
}
