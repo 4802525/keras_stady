{
 "cells": [
  {
   "cell_type": "markdown",
   "metadata": {},
   "source": [
    "# 無から始めるkeras 5 (Mnist認識)"
   ]
  },
  {
   "cell_type": "code",
   "execution_count": 1,
   "metadata": {},
   "outputs": [
    {
     "name": "stderr",
     "output_type": "stream",
     "text": [
      "Using TensorFlow backend.\n"
     ]
    }
   ],
   "source": [
    "from keras.datasets import mnist\n",
    "from keras.utils import np_utils\n",
    "from keras.models import Sequential\n",
    "from keras.layers import Dense, Activation, Dropout\n",
    "from keras.callbacks import EarlyStopping\n",
    "\n",
    "#GPUの仕様に関する設定\n",
    "import tensorflow as tf\n",
    "from keras import backend as K\n",
    "config = tf.ConfigProto(\n",
    "    gpu_options = tf.GPUOptions(\n",
    "        visible_device_list = \"1\",\n",
    "        allow_growth = True,\n",
    "        per_process_gpu_memory_fraction = 0.3))\n",
    "sess = tf.Session(config=config)\n",
    "K.set_session(sess)"
   ]
  },
  {
   "cell_type": "markdown",
   "metadata": {},
   "source": [
    "## Mnist読み込み"
   ]
  },
  {
   "cell_type": "code",
   "execution_count": 2,
   "metadata": {},
   "outputs": [],
   "source": [
    "(x_train, y_train), (x_test, y_test) = mnist.load_data()\n",
    "x_train = x_train.reshape(60000, 784)/255.0\n",
    "x_test = x_test.reshape(10000, 784)/255.0\n",
    "y_train = np_utils.to_categorical(y_train, num_classes = 10)"
   ]
  },
  {
   "cell_type": "markdown",
   "metadata": {},
   "source": [
    "## モデルの作成"
   ]
  },
  {
   "cell_type": "code",
   "execution_count": 3,
   "metadata": {},
   "outputs": [],
   "source": [
    "model = Sequential([\n",
    "    Dense(1300, input_dim = 784, activation='relu'),\n",
    "    Dropout(0.4),\n",
    "    Dense(10, activation='softmax')\n",
    "])\n",
    "model.compile('adam', 'categorical_crossentropy', metrics=['accuracy'])"
   ]
  },
  {
   "cell_type": "code",
   "execution_count": 4,
   "metadata": {},
   "outputs": [
    {
     "name": "stdout",
     "output_type": "stream",
     "text": [
      "Train on 48000 samples, validate on 12000 samples\n",
      "Epoch 1/200\n",
      "48000/48000 [==============================] - 3s 62us/step - loss: 0.2737 - acc: 0.9183 - val_loss: 0.1387 - val_acc: 0.9603\n",
      "Epoch 2/200\n",
      "48000/48000 [==============================] - 3s 53us/step - loss: 0.1191 - acc: 0.9645 - val_loss: 0.0966 - val_acc: 0.9693\n",
      "Epoch 3/200\n",
      "48000/48000 [==============================] - 3s 53us/step - loss: 0.0835 - acc: 0.9745 - val_loss: 0.0844 - val_acc: 0.9723\n",
      "Epoch 4/200\n",
      "48000/48000 [==============================] - 3s 52us/step - loss: 0.0668 - acc: 0.9794 - val_loss: 0.0797 - val_acc: 0.9749\n",
      "Epoch 5/200\n",
      "48000/48000 [==============================] - 3s 52us/step - loss: 0.0532 - acc: 0.9830 - val_loss: 0.0761 - val_acc: 0.9771\n",
      "Epoch 6/200\n",
      "48000/48000 [==============================] - 3s 53us/step - loss: 0.0487 - acc: 0.9844 - val_loss: 0.0776 - val_acc: 0.9766\n"
     ]
    },
    {
     "data": {
      "text/plain": [
       "<keras.callbacks.History at 0x7f049b2a92e8>"
      ]
     },
     "execution_count": 4,
     "metadata": {},
     "output_type": "execute_result"
    }
   ],
   "source": [
    "es = EarlyStopping(monitor='val_loss')\n",
    "model.fit(x_train, y_train, batch_size = 100, validation_split=0.2, epochs=200, callbacks=[es])"
   ]
  },
  {
   "cell_type": "code",
   "execution_count": 5,
   "metadata": {},
   "outputs": [
    {
     "name": "stdout",
     "output_type": "stream",
     "text": [
      "0.9771\n"
     ]
    }
   ],
   "source": [
    "predict = model.predict_classes(x_test)\n",
    "print(sum(predict == y_test)/ 10000.0)"
   ]
  },
  {
   "cell_type": "code",
   "execution_count": null,
   "metadata": {},
   "outputs": [],
   "source": []
  }
 ],
 "metadata": {
  "kernelspec": {
   "display_name": "Python 3",
   "language": "python",
   "name": "python3"
  },
  "language_info": {
   "codemirror_mode": {
    "name": "ipython",
    "version": 3
   },
   "file_extension": ".py",
   "mimetype": "text/x-python",
   "name": "python",
   "nbconvert_exporter": "python",
   "pygments_lexer": "ipython3",
   "version": "3.6.4"
  }
 },
 "nbformat": 4,
 "nbformat_minor": 2
}
