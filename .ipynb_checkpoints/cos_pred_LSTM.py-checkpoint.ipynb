{
 "cells": [
  {
   "cell_type": "markdown",
   "metadata": {},
   "source": [
    "# cosの推定(LSTM 25ポイントを入れて次の値を予測)"
   ]
  },
  {
   "cell_type": "code",
   "execution_count": 1,
   "metadata": {},
   "outputs": [
    {
     "name": "stderr",
     "output_type": "stream",
     "text": [
      "Using TensorFlow backend.\n"
     ]
    }
   ],
   "source": [
    "import numpy as np\n",
    "from keras.models import Sequential\n",
    "from keras.layers import Dense, Dropout, LSTM\n",
    "from keras.callbacks import EarlyStopping\n",
    "import matplotlib.pyplot as plt\n",
    "%matplotlib inline\n",
    "\n",
    "#GPUの仕様に関する設定\n",
    "import tensorflow as tf\n",
    "from keras import backend as K\n",
    "config = tf.ConfigProto(\n",
    "    gpu_options = tf.GPUOptions(\n",
    "        visible_device_list = \"1\",\n",
    "        allow_growth = True,\n",
    "        per_process_gpu_memory_fraction = 0.3))\n",
    "sess = tf.Session(config=config)\n",
    "K.set_session(sess)"
   ]
  },
  {
   "cell_type": "code",
   "execution_count": 2,
   "metadata": {},
   "outputs": [],
   "source": [
    "def myplot(y,ylabel='',title=''):\n",
    "    plt.ylabel(ylabel)\n",
    "    plt.plot(y, linestyle='--', alpha=0.5)"
   ]
  },
  {
   "cell_type": "markdown",
   "metadata": {},
   "source": [
    "## cos波データの作成"
   ]
  },
  {
   "cell_type": "code",
   "execution_count": 3,
   "metadata": {},
   "outputs": [],
   "source": [
    "n_data = 2000\n",
    "n_test = 200\n",
    "noize = 0.1 * np.random.uniform(low=-1.0, high=1.0, size=n_data)\n",
    "data = np.cos(2.0*np.pi*np.arange(0,n_data)/100.0) + noize"
   ]
  },
  {
   "cell_type": "code",
   "execution_count": 4,
   "metadata": {},
   "outputs": [],
   "source": [
    "x_train = [data[i:i+25] for i in range(n_data - 25 - n_test)]\n",
    "x_train = np.array(x_train).reshape(len(x_train),25,1)\n",
    "x_test = [data[i:i+25] for i in range(n_data - n_test, n_data - 25)]\n",
    "x_test = np.array(x_test).reshape(len(x_test),25,1)\n",
    "y_train = [data[i+25] for i in range(n_data - 25 - n_test)]\n",
    "y_train = np.array(y_train).reshape(len(y_train),1)\n",
    "y_test = [data[i+25] for i in range(n_data - n_test, n_data -25)]\n",
    "y_test = np.array(y_test).reshape(len(y_test),1)"
   ]
  },
  {
   "cell_type": "markdown",
   "metadata": {},
   "source": [
    "## モデルの構築(25 - 20 -1)と学習"
   ]
  },
  {
   "cell_type": "code",
   "execution_count": 5,
   "metadata": {},
   "outputs": [
    {
     "name": "stdout",
     "output_type": "stream",
     "text": [
      "Train on 1597 samples, validate on 178 samples\n",
      "Epoch 1/100\n",
      "1597/1597 [==============================] - 2s 1ms/step - loss: 0.9253 - val_loss: 0.0461\n",
      "Epoch 2/100\n",
      "1597/1597 [==============================] - 1s 842us/step - loss: 0.3264 - val_loss: 0.0280\n",
      "Epoch 3/100\n",
      "1597/1597 [==============================] - 1s 851us/step - loss: 0.2099 - val_loss: 0.0267\n",
      "Epoch 4/100\n",
      "1597/1597 [==============================] - 1s 866us/step - loss: 0.1556 - val_loss: 0.0188\n",
      "Epoch 5/100\n",
      "1597/1597 [==============================] - 1s 841us/step - loss: 0.1121 - val_loss: 0.0159\n",
      "Epoch 6/100\n",
      "1597/1597 [==============================] - 1s 842us/step - loss: 0.0993 - val_loss: 0.0170\n",
      "Epoch 7/100\n",
      "1597/1597 [==============================] - 1s 859us/step - loss: 0.0897 - val_loss: 0.0063\n",
      "Epoch 8/100\n",
      "1597/1597 [==============================] - 1s 843us/step - loss: 0.0639 - val_loss: 0.0064\n",
      "Epoch 9/100\n",
      "1597/1597 [==============================] - 1s 876us/step - loss: 0.0612 - val_loss: 0.0060\n",
      "Epoch 10/100\n",
      "1597/1597 [==============================] - 1s 856us/step - loss: 0.0479 - val_loss: 0.0067\n",
      "Epoch 11/100\n",
      "1597/1597 [==============================] - 1s 842us/step - loss: 0.0420 - val_loss: 0.0063\n",
      "Epoch 12/100\n",
      "1597/1597 [==============================] - 1s 839us/step - loss: 0.0377 - val_loss: 0.0066\n",
      "Epoch 13/100\n",
      "1597/1597 [==============================] - 1s 837us/step - loss: 0.0346 - val_loss: 0.0053\n",
      "Epoch 14/100\n",
      "1597/1597 [==============================] - 1s 849us/step - loss: 0.0322 - val_loss: 0.0058\n",
      "Epoch 15/100\n",
      "1597/1597 [==============================] - 1s 818us/step - loss: 0.0302 - val_loss: 0.0055\n",
      "Epoch 16/100\n",
      "1597/1597 [==============================] - 1s 865us/step - loss: 0.0289 - val_loss: 0.0056\n",
      "Epoch 17/100\n",
      "1597/1597 [==============================] - 1s 857us/step - loss: 0.0262 - val_loss: 0.0059\n",
      "Epoch 18/100\n",
      "1597/1597 [==============================] - 1s 839us/step - loss: 0.0258 - val_loss: 0.0058\n",
      "Epoch 19/100\n",
      "1597/1597 [==============================] - 1s 831us/step - loss: 0.0276 - val_loss: 0.0056\n",
      "Epoch 20/100\n",
      "1597/1597 [==============================] - 1s 854us/step - loss: 0.0269 - val_loss: 0.0053\n",
      "Epoch 21/100\n",
      "1597/1597 [==============================] - 1s 839us/step - loss: 0.0231 - val_loss: 0.0052\n",
      "Epoch 22/100\n",
      "1597/1597 [==============================] - 1s 851us/step - loss: 0.0247 - val_loss: 0.0054\n",
      "Epoch 23/100\n",
      "1597/1597 [==============================] - 1s 831us/step - loss: 0.0239 - val_loss: 0.0052\n",
      "Epoch 24/100\n",
      "1597/1597 [==============================] - 1s 862us/step - loss: 0.0253 - val_loss: 0.0052\n",
      "Epoch 25/100\n",
      "1597/1597 [==============================] - 1s 827us/step - loss: 0.0248 - val_loss: 0.0057\n",
      "Epoch 26/100\n",
      "1597/1597 [==============================] - 1s 851us/step - loss: 0.0251 - val_loss: 0.0059\n",
      "Epoch 27/100\n",
      "1597/1597 [==============================] - 1s 832us/step - loss: 0.0246 - val_loss: 0.0051\n",
      "Epoch 28/100\n",
      "1597/1597 [==============================] - 1s 835us/step - loss: 0.0257 - val_loss: 0.0058\n",
      "Epoch 29/100\n",
      "1597/1597 [==============================] - 1s 853us/step - loss: 0.0257 - val_loss: 0.0055\n",
      "Epoch 30/100\n",
      "1597/1597 [==============================] - 1s 840us/step - loss: 0.0247 - val_loss: 0.0060\n",
      "Epoch 31/100\n",
      "1597/1597 [==============================] - 1s 853us/step - loss: 0.0230 - val_loss: 0.0062\n",
      "Epoch 32/100\n",
      "1597/1597 [==============================] - 1s 848us/step - loss: 0.0237 - val_loss: 0.0048\n",
      "Epoch 33/100\n",
      "1597/1597 [==============================] - 1s 879us/step - loss: 0.0232 - val_loss: 0.0050\n",
      "Epoch 34/100\n",
      "1597/1597 [==============================] - 1s 858us/step - loss: 0.0233 - val_loss: 0.0058\n",
      "Epoch 35/100\n",
      "1597/1597 [==============================] - 1s 855us/step - loss: 0.0230 - val_loss: 0.0059\n",
      "Epoch 36/100\n",
      "1597/1597 [==============================] - 1s 867us/step - loss: 0.0243 - val_loss: 0.0057\n",
      "Epoch 37/100\n",
      "1597/1597 [==============================] - 1s 855us/step - loss: 0.0223 - val_loss: 0.0052\n",
      "Epoch 38/100\n",
      "1597/1597 [==============================] - 1s 844us/step - loss: 0.0224 - val_loss: 0.0054\n",
      "Epoch 39/100\n",
      "1597/1597 [==============================] - 1s 855us/step - loss: 0.0213 - val_loss: 0.0048\n",
      "Epoch 40/100\n",
      "1597/1597 [==============================] - 1s 852us/step - loss: 0.0213 - val_loss: 0.0049\n",
      "Epoch 41/100\n",
      "1597/1597 [==============================] - 1s 830us/step - loss: 0.0225 - val_loss: 0.0051\n",
      "Epoch 42/100\n",
      "1597/1597 [==============================] - 1s 850us/step - loss: 0.0219 - val_loss: 0.0047\n",
      "Epoch 43/100\n",
      "1597/1597 [==============================] - 1s 868us/step - loss: 0.0236 - val_loss: 0.0048\n",
      "Epoch 44/100\n",
      "1597/1597 [==============================] - 1s 841us/step - loss: 0.0213 - val_loss: 0.0052\n",
      "Epoch 45/100\n",
      "1597/1597 [==============================] - 1s 845us/step - loss: 0.0220 - val_loss: 0.0050\n",
      "Epoch 46/100\n",
      "1597/1597 [==============================] - 1s 851us/step - loss: 0.0212 - val_loss: 0.0050\n",
      "Epoch 47/100\n",
      "1597/1597 [==============================] - 1s 853us/step - loss: 0.0225 - val_loss: 0.0048\n",
      "Epoch 48/100\n",
      "1597/1597 [==============================] - 1s 846us/step - loss: 0.0221 - val_loss: 0.0060\n",
      "Epoch 49/100\n",
      "1597/1597 [==============================] - 1s 848us/step - loss: 0.0214 - val_loss: 0.0056\n",
      "Epoch 50/100\n",
      "1597/1597 [==============================] - 1s 837us/step - loss: 0.0202 - val_loss: 0.0060\n",
      "Epoch 51/100\n",
      "1597/1597 [==============================] - 1s 863us/step - loss: 0.0228 - val_loss: 0.0047\n",
      "Epoch 52/100\n",
      "1597/1597 [==============================] - 1s 871us/step - loss: 0.0214 - val_loss: 0.0049\n",
      "Epoch 53/100\n",
      "1597/1597 [==============================] - 1s 866us/step - loss: 0.0231 - val_loss: 0.0049\n",
      "Epoch 54/100\n",
      "1597/1597 [==============================] - 1s 826us/step - loss: 0.0229 - val_loss: 0.0046\n",
      "Epoch 55/100\n",
      "1597/1597 [==============================] - 1s 840us/step - loss: 0.0224 - val_loss: 0.0051\n",
      "Epoch 56/100\n",
      "1597/1597 [==============================] - 1s 850us/step - loss: 0.0208 - val_loss: 0.0050\n",
      "Epoch 57/100\n",
      "1597/1597 [==============================] - 1s 841us/step - loss: 0.0202 - val_loss: 0.0050\n",
      "Epoch 58/100\n",
      "1597/1597 [==============================] - 1s 836us/step - loss: 0.0208 - val_loss: 0.0056\n",
      "Epoch 59/100\n",
      "1597/1597 [==============================] - 1s 836us/step - loss: 0.0211 - val_loss: 0.0053\n",
      "Epoch 60/100\n",
      "1597/1597 [==============================] - 1s 846us/step - loss: 0.0225 - val_loss: 0.0046\n",
      "Epoch 61/100\n",
      "1597/1597 [==============================] - 1s 841us/step - loss: 0.0212 - val_loss: 0.0049\n",
      "Epoch 62/100\n",
      "1597/1597 [==============================] - 1s 833us/step - loss: 0.0229 - val_loss: 0.0047\n",
      "Epoch 63/100\n",
      "1597/1597 [==============================] - 1s 831us/step - loss: 0.0202 - val_loss: 0.0047\n",
      "Epoch 64/100\n",
      "1597/1597 [==============================] - 1s 838us/step - loss: 0.0202 - val_loss: 0.0047\n",
      "Epoch 65/100\n",
      "1597/1597 [==============================] - 1s 846us/step - loss: 0.0202 - val_loss: 0.0053\n",
      "Epoch 66/100\n",
      "1597/1597 [==============================] - 1s 865us/step - loss: 0.0196 - val_loss: 0.0052\n",
      "Epoch 67/100\n",
      "1597/1597 [==============================] - 1s 826us/step - loss: 0.0205 - val_loss: 0.0046\n",
      "Epoch 68/100\n",
      "1597/1597 [==============================] - 1s 875us/step - loss: 0.0201 - val_loss: 0.0050\n",
      "Epoch 69/100\n",
      "1597/1597 [==============================] - 1s 852us/step - loss: 0.0216 - val_loss: 0.0054\n",
      "Epoch 70/100\n",
      "1597/1597 [==============================] - 1s 846us/step - loss: 0.0220 - val_loss: 0.0047\n",
      "Epoch 71/100\n",
      "1597/1597 [==============================] - 1s 832us/step - loss: 0.0211 - val_loss: 0.0046\n",
      "Epoch 72/100\n",
      "1597/1597 [==============================] - 1s 856us/step - loss: 0.0203 - val_loss: 0.0048\n",
      "Epoch 73/100\n",
      "1597/1597 [==============================] - 1s 865us/step - loss: 0.0203 - val_loss: 0.0061\n",
      "Epoch 74/100\n",
      "1597/1597 [==============================] - 1s 851us/step - loss: 0.0204 - val_loss: 0.0051\n",
      "Epoch 75/100\n",
      "1597/1597 [==============================] - 1s 874us/step - loss: 0.0217 - val_loss: 0.0047\n",
      "Epoch 76/100\n",
      "1597/1597 [==============================] - 1s 862us/step - loss: 0.0213 - val_loss: 0.0056\n",
      "Epoch 77/100\n",
      "1597/1597 [==============================] - 1s 843us/step - loss: 0.0210 - val_loss: 0.0050\n"
     ]
    },
    {
     "name": "stdout",
     "output_type": "stream",
     "text": [
      "Epoch 78/100\n",
      "1597/1597 [==============================] - 1s 843us/step - loss: 0.0212 - val_loss: 0.0055\n",
      "Epoch 79/100\n",
      "1597/1597 [==============================] - 1s 837us/step - loss: 0.0189 - val_loss: 0.0052\n",
      "Epoch 80/100\n",
      "1597/1597 [==============================] - 1s 815us/step - loss: 0.0199 - val_loss: 0.0049\n",
      "Epoch 81/100\n",
      "1597/1597 [==============================] - 1s 819us/step - loss: 0.0206 - val_loss: 0.0044\n",
      "Epoch 82/100\n",
      "1597/1597 [==============================] - 1s 832us/step - loss: 0.0207 - val_loss: 0.0044\n",
      "Epoch 83/100\n",
      "1597/1597 [==============================] - 1s 868us/step - loss: 0.0222 - val_loss: 0.0046\n",
      "Epoch 84/100\n",
      "1597/1597 [==============================] - 1s 844us/step - loss: 0.0192 - val_loss: 0.0051\n",
      "Epoch 85/100\n",
      "1597/1597 [==============================] - 1s 838us/step - loss: 0.0214 - val_loss: 0.0052\n",
      "Epoch 86/100\n",
      "1597/1597 [==============================] - 1s 835us/step - loss: 0.0216 - val_loss: 0.0060\n",
      "Epoch 87/100\n",
      "1597/1597 [==============================] - 1s 862us/step - loss: 0.0212 - val_loss: 0.0050\n",
      "Epoch 88/100\n",
      "1597/1597 [==============================] - 1s 829us/step - loss: 0.0200 - val_loss: 0.0052\n",
      "Epoch 89/100\n",
      "1597/1597 [==============================] - 1s 836us/step - loss: 0.0196 - val_loss: 0.0047\n",
      "Epoch 90/100\n",
      "1597/1597 [==============================] - 1s 841us/step - loss: 0.0213 - val_loss: 0.0063\n",
      "Epoch 91/100\n",
      "1597/1597 [==============================] - 1s 854us/step - loss: 0.0216 - val_loss: 0.0051\n",
      "Epoch 92/100\n",
      "1597/1597 [==============================] - 1s 839us/step - loss: 0.0209 - val_loss: 0.0044\n",
      "Epoch 93/100\n",
      "1597/1597 [==============================] - 1s 828us/step - loss: 0.0201 - val_loss: 0.0051\n",
      "Epoch 94/100\n",
      "1597/1597 [==============================] - 1s 866us/step - loss: 0.0195 - val_loss: 0.0044\n",
      "Epoch 95/100\n",
      "1597/1597 [==============================] - 1s 867us/step - loss: 0.0199 - val_loss: 0.0055\n",
      "Epoch 96/100\n",
      "1597/1597 [==============================] - 1s 836us/step - loss: 0.0202 - val_loss: 0.0044\n",
      "Epoch 97/100\n",
      "1597/1597 [==============================] - 1s 857us/step - loss: 0.0204 - val_loss: 0.0051\n",
      "Epoch 98/100\n",
      "1597/1597 [==============================] - 1s 850us/step - loss: 0.0205 - val_loss: 0.0056\n",
      "Epoch 99/100\n",
      "1597/1597 [==============================] - 1s 860us/step - loss: 0.0194 - val_loss: 0.0044\n",
      "Epoch 100/100\n",
      "1597/1597 [==============================] - 1s 839us/step - loss: 0.0210 - val_loss: 0.0046\n"
     ]
    },
    {
     "data": {
      "text/plain": [
       "<keras.callbacks.History at 0x7fa1ce499588>"
      ]
     },
     "execution_count": 5,
     "metadata": {},
     "output_type": "execute_result"
    }
   ],
   "source": [
    "model = Sequential()\n",
    "model.add(LSTM(20, kernel_initializer = 'he_normal', input_shape=(25,1), activation = 'relu'))\n",
    "model.add(Dropout(0.2))\n",
    "model.add(Dense(1,kernel_initializer = 'he_normal', activation='linear'))\n",
    "\n",
    "model.compile(loss='mean_squared_error', optimizer = 'adam')\n",
    "model.fit(x_train, y_train, epochs=100, batch_size = 50, validation_split=0.1)"
   ]
  },
  {
   "cell_type": "markdown",
   "metadata": {},
   "source": [
    "## モデルの評価"
   ]
  },
  {
   "cell_type": "code",
   "execution_count": 6,
   "metadata": {},
   "outputs": [
    {
     "data": {
      "image/png": "[encoded data removed]",
      "text/plain": [
       "<matplotlib.figure.Figure at 0x7fa1dffaa5c0>"
      ]
     },
     "metadata": {},
     "output_type": "display_data"
    }
   ],
   "source": [
    "predict = model.predict(x_test)\n",
    "myplot(predict)\n",
    "myplot(y_test)"
   ]
  },
  {
   "cell_type": "code",
   "execution_count": 7,
   "metadata": {},
   "outputs": [
    {
     "data": {
      "image/png": "[encoded data removed]",
      "text/plain": [
       "<matplotlib.figure.Figure at 0x7fa18c18bb70>"
      ]
     },
     "metadata": {},
     "output_type": "display_data"
    }
   ],
   "source": [
    "#テストデータの推測(25データから遠い未来の情報)\n",
    "Z = x_test[:1]\n",
    "predicted = []\n",
    "for i in range(n_test - 25):\n",
    "    z_ = Z[-1:]\n",
    "    y_ = model.predict(z_)\n",
    "    sequence_ = np.concatenate((z_.reshape(25,1)[1:],y_),axis=0).reshape(1,25,1)\n",
    "    \n",
    "    Z = np.append(Z, sequence_, axis=0)\n",
    "    predicted.append(y_.reshape(-1))\n",
    "    \n",
    "myplot(predicted)  \n",
    "myplot(y_test)"
   ]
  },
  {
   "cell_type": "code",
   "execution_count": 11,
   "metadata": {},
   "outputs": [
    {
     "data": {
      "image/png": "[encoded data removed]",
      "text/plain": [
       "<matplotlib.figure.Figure at 0x7fa184316390>"
      ]
     },
     "metadata": {},
     "output_type": "display_data"
    }
   ],
   "source": [
    "#学習データの推測(25データから遠い未来の情報)\n",
    "Z = x_train[:1]\n",
    "predicted = []\n",
    "for i in range(n_test - 25):\n",
    "    z_ = Z[-1:]\n",
    "    y_ = model.predict(z_)\n",
    "    sequence_ = np.concatenate((z_.reshape(25,1)[1:],y_),axis=0).reshape(1,25,1)\n",
    "    \n",
    "    Z = np.append(Z, sequence_, axis=0)\n",
    "    predicted.append(y_.reshape(-1))\n",
    "    \n",
    "myplot(predicted)  \n",
    "myplot(y_train[:n_test-25])"
   ]
  },
  {
   "cell_type": "markdown",
   "metadata": {},
   "source": [
    "## モデルの保存"
   ]
  },
  {
   "cell_type": "code",
   "execution_count": 9,
   "metadata": {},
   "outputs": [],
   "source": [
    "model.save('./model/cos_pred_LSTM.hdf5')"
   ]
  }
 ],
 "metadata": {
  "kernelspec": {
   "display_name": "Python 3",
   "language": "python",
   "name": "python3"
  },
  "language_info": {
   "codemirror_mode": {
    "name": "ipython",
    "version": 3
   },
   "file_extension": ".py",
   "mimetype": "text/x-python",
   "name": "python",
   "nbconvert_exporter": "python",
   "pygments_lexer": "ipython3",
   "version": "3.6.4"
  }
 },
 "nbformat": 4,
 "nbformat_minor": 2
}
